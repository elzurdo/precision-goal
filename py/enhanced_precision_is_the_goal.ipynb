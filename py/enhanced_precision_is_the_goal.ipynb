{
 "cells": [
  {
   "cell_type": "markdown",
   "id": "1acc5387",
   "metadata": {},
   "source": [
    "* Comparing the stop criterion of precision is the goal with the enhanced version\n",
    "* Describing the risk version"
   ]
  },
  {
   "cell_type": "markdown",
   "id": "fad7e2f8",
   "metadata": {},
   "source": [
    "# Setup"
   ]
  },
  {
   "cell_type": "code",
   "execution_count": 1,
   "id": "8b6eabab",
   "metadata": {},
   "outputs": [],
   "source": [
    "# IPython extension to reload modules before executing user code.\n",
    "# useful to see immediate results in notebook when modifying imported scripts\n",
    "%load_ext autoreload\n",
    "%autoreload 2"
   ]
  },
  {
   "cell_type": "code",
   "execution_count": 42,
   "id": "da746eeb",
   "metadata": {},
   "outputs": [],
   "source": [
    "import numpy as np\n",
    "import pandas as pd\n",
    "\n",
    "from scipy.stats import beta\n",
    "\n",
    "from utils_stats import (\n",
    "    #hdi_ci_limits,\n",
    "    successes_failures_to_hdi_ci_limits\n",
    ")\n",
    "\n",
    "from utils_viz import (\n",
    "    #plot_success_rates\n",
    "    plot_vhlines_lines,\n",
    "    #plot_parity_line,\n",
    "    plot_multiple_decision_rates_jammed,\n",
    "    plot_multiple_decision_rates_separate,\n",
    "    scatter_stop_iter_sample_rate,\n",
    ")\n",
    "\n",
    "from utils_experiments import (\n",
    "    BinaryAccounting,\n",
    "    stop_decision_multiple_experiments_multiple_methods,\n",
    "    stats_dict_to_df,\n",
    "    iteration_counts_to_df,\n",
    ")\n",
    "    \n",
    "\n",
    "seed = 7"
   ]
  },
  {
   "cell_type": "code",
   "execution_count": 3,
   "id": "3ff5ba02",
   "metadata": {},
   "outputs": [],
   "source": [
    "\n",
    "import matplotlib.pyplot as plt\n",
    "SMALL_SIZE = 12\n",
    "MEDIUM_SIZE = 16\n",
    "BIGGER_SIZE = 20\n",
    "\n",
    "FIG_WIDTH, FIG_HEIGHT = 8, 6\n",
    "\n",
    "plt.rc(\"font\", size=SMALL_SIZE)  # controls default text sizes\n",
    "plt.rc(\"axes\", titlesize=SMALL_SIZE)  # fontsize of the axes title\n",
    "plt.rc(\"axes\", labelsize=MEDIUM_SIZE)  # fontsize of the x and y labels\n",
    "plt.rc(\"xtick\", labelsize=SMALL_SIZE)  # fontsize of the tick labels\n",
    "plt.rc(\"ytick\", labelsize=SMALL_SIZE)  # fontsize of the tick labels\n",
    "plt.rc(\"legend\", fontsize=SMALL_SIZE)  # legend fontsize\n",
    "plt.rc(\"axes\", titlesize=BIGGER_SIZE)  # fontsize of the figure title\n",
    "\n",
    "plt.rcParams[\"figure.figsize\"] = FIG_WIDTH, FIG_HEIGHT\n",
    "# plt.rcParams[\"hatch.linewidth\"] = 0.2\n",
    "\n",
    "plt.rcParams['axes.spines.right'] = False\n",
    "plt.rcParams['axes.spines.top'] = False"
   ]
  },
  {
   "cell_type": "markdown",
   "id": "7d5b37d2",
   "metadata": {},
   "source": [
    "# Data\n",
    "\n",
    "Experiments each containing many Bernoulli trials"
   ]
  },
  {
   "cell_type": "code",
   "execution_count": 4,
   "id": "f22d53da",
   "metadata": {},
   "outputs": [
    {
     "name": "stdout",
     "output_type": "stream",
     "text": [
      "0.5: null\n",
      "0.45: ROPE min\n",
      "0.55: ROPE max\n",
      "--------------------\n",
      "0.08: Precision Goal\n",
      "--------------------\n",
      "0.5: true\n"
     ]
    }
   ],
   "source": [
    "success_rate_null = 0.5   # this is the null hypothesis, not necessarilly true\n",
    "dsuccess_rate = 0.05 #success_rate * 0.1\n",
    "rope_precision_fraction = 0.8\n",
    "\n",
    "success_rate = 0.5  #0.65  #0.5 + 0.5 * dsuccess_rate  # the true value\n",
    "# --------\n",
    "\n",
    "rope_min = success_rate_null - dsuccess_rate\n",
    "rope_max = success_rate_null + dsuccess_rate\n",
    "\n",
    "# hypothesis: if precision_goal is lower, then PitG has less of\n",
    "# an inconclusiveness problem but at the expense of more trials.\n",
    "precision_goal = (2 * dsuccess_rate) * rope_precision_fraction\n",
    "#precision_goal = (dsuccess_rate) * rope_precision_fraction # 1500 was not enough for 0.04\n",
    "#precision_goal = (1.5 * dsuccess_rate) * rope_precision_fraction # 1500 was not enough for 0.04\n",
    "\n",
    "\n",
    "print(f\"{success_rate_null:0.5}: null\")\n",
    "print(f\"{rope_min:0.2}: ROPE min\")\n",
    "print(f\"{rope_max:0.2}: ROPE max\")\n",
    "print(\"-\" * 20)\n",
    "print(f\"{precision_goal:0.2}: Precision Goal\")\n",
    "print(\"-\" * 20)\n",
    "print(f\"{success_rate:0.3}: true\")"
   ]
  },
  {
   "cell_type": "code",
   "execution_count": 46,
   "id": "19c07722",
   "metadata": {},
   "outputs": [
    {
     "data": {
      "text/plain": [
       "(500, 1500)"
      ]
     },
     "execution_count": 46,
     "metadata": {},
     "output_type": "execute_result"
    }
   ],
   "source": [
    "experiments = 500 # number of experiments 500 #200 #300 #200\n",
    "n_samples = 1500  #2500 # max number of samples in each experiement #2500 #1000 #1500\n",
    "\n",
    "np.random.seed(seed)\n",
    "samples = np.random.binomial(1, success_rate, [experiments, n_samples])\n",
    "\n",
    "samples.shape  # (experiments, n_samples)"
   ]
  },
  {
   "cell_type": "markdown",
   "id": "69e1b8b7",
   "metadata": {},
   "source": [
    "# Enhanced Precision is the Goal\n",
    "\n",
    "As compared to \"Precision is the Goal\" and HDI+ROPE."
   ]
  },
  {
   "cell_type": "code",
   "execution_count": 47,
   "id": "ef7a1403",
   "metadata": {},
   "outputs": [],
   "source": [
    "# binary_accounting = BinaryAccounting()"
   ]
  },
  {
   "cell_type": "code",
   "execution_count": 48,
   "id": "fd88dc5a",
   "metadata": {},
   "outputs": [
    {
     "name": "stdout",
     "output_type": "stream",
     "text": [
      "Sample 140 at final iteration\n",
      "{'decision_iteration': 1500, 'accept': False, 'reject_below': False, 'reject_above': False, 'conclusive': False, 'inconclusive': True, 'successes': 708, 'failures': 792, 'hdi_min': 0.446766867411269, 'hdi_max': 0.4972694566161049}\n",
      "Sample 165 at final iteration\n",
      "{'decision_iteration': 1500, 'accept': False, 'reject_below': False, 'reject_above': False, 'conclusive': False, 'inconclusive': True, 'successes': 809, 'failures': 691, 'hdi_min': 0.5141054692980911, 'hdi_max': 0.5645305410768443}\n",
      "Sample 169 at final iteration\n",
      "{'decision_iteration': 1500, 'accept': False, 'reject_below': False, 'reject_above': False, 'conclusive': False, 'inconclusive': True, 'successes': 698, 'failures': 802, 'hdi_min': 0.4401126621762446, 'hdi_max': 0.4905728257358288}\n",
      "Sample 171 at final iteration\n",
      "{'decision_iteration': 1500, 'accept': False, 'reject_below': False, 'reject_above': False, 'conclusive': False, 'inconclusive': True, 'successes': 705, 'failures': 795, 'hdi_min': 0.44475808866125405, 'hdi_max': 0.49524890357110063}\n",
      "Sample 241 at final iteration\n",
      "{'decision_iteration': 1500, 'accept': False, 'reject_below': False, 'reject_above': False, 'conclusive': False, 'inconclusive': True, 'successes': 798, 'failures': 702, 'hdi_min': 0.5067462649612215, 'hdi_max': 0.5572244824897478}\n",
      "Sample 250 at final iteration\n",
      "{'decision_iteration': 1500, 'accept': False, 'reject_below': False, 'reject_above': False, 'conclusive': False, 'inconclusive': True, 'successes': 701, 'failures': 799, 'hdi_min': 0.44211188360429515, 'hdi_max': 0.4925857239739167}\n",
      "Sample 254 at final iteration\n",
      "{'decision_iteration': 1500, 'accept': False, 'reject_below': False, 'reject_above': False, 'conclusive': False, 'inconclusive': True, 'successes': 790, 'failures': 710, 'hdi_min': 0.5014038032397002, 'hdi_max': 0.551913781126643}\n",
      "Sample 265 at final iteration\n",
      "{'decision_iteration': 1500, 'accept': False, 'reject_below': False, 'reject_above': False, 'conclusive': False, 'inconclusive': True, 'successes': 802, 'failures': 698, 'hdi_min': 0.5094271742641713, 'hdi_max': 0.5598873378237554}\n",
      "Sample 307 at final iteration\n",
      "{'decision_iteration': 1500, 'accept': False, 'reject_below': False, 'reject_above': False, 'conclusive': False, 'inconclusive': True, 'successes': 706, 'failures': 794, 'hdi_min': 0.4454219022615471, 'hdi_max': 0.49591673393705726}\n",
      "Sample 349 at final iteration\n",
      "{'decision_iteration': 1500, 'accept': False, 'reject_below': False, 'reject_above': False, 'conclusive': False, 'inconclusive': True, 'successes': 820, 'failures': 680, 'hdi_min': 0.5214615667633218, 'hdi_max': 0.5718225001308312}\n",
      "Sample 413 at final iteration\n",
      "{'decision_iteration': 1500, 'accept': False, 'reject_below': False, 'reject_above': False, 'conclusive': False, 'inconclusive': True, 'successes': 708, 'failures': 792, 'hdi_min': 0.446766867411269, 'hdi_max': 0.4972694566161049}\n",
      "Sample 467 at final iteration\n",
      "{'decision_iteration': 1500, 'accept': False, 'reject_below': False, 'reject_above': False, 'conclusive': False, 'inconclusive': True, 'successes': 799, 'failures': 701, 'hdi_min': 0.5074142760260834, 'hdi_max': 0.5578881163957048}\n",
      "Sample 477 at final iteration\n",
      "{'decision_iteration': 1500, 'accept': False, 'reject_below': False, 'reject_above': False, 'conclusive': False, 'inconclusive': True, 'successes': 704, 'failures': 796, 'hdi_min': 0.4440943203495945, 'hdi_max': 0.4945810280394364}\n"
     ]
    }
   ],
   "source": [
    "method_stats, method_roperesult_iteration = stop_decision_multiple_experiments_multiple_methods(samples, rope_min, rope_max, precision_goal, binary_accounting=binary_accounting)"
   ]
  },
  {
   "cell_type": "code",
   "execution_count": 49,
   "id": "7134665e",
   "metadata": {},
   "outputs": [
    {
     "data": {
      "text/plain": [
       "1      31.374649\n",
       "2      13.900983\n",
       "3       7.907303\n",
       "4       5.540730\n",
       "5       4.216994\n",
       "         ...    \n",
       "209     0.001756\n",
       "216     0.001756\n",
       "250     0.001756\n",
       "253     0.001756\n",
       "287     0.001756\n",
       "Name: proportion, Length: 129, dtype: float64"
      ]
     },
     "execution_count": 49,
     "metadata": {},
     "output_type": "execute_result"
    }
   ],
   "source": [
    "# examining uniqueness distributions of success and failure pairs\n",
    "100. * pd.Series(binary_accounting.dict_successes_failures_counter).value_counts(normalize=True).sort_index()"
   ]
  },
  {
   "cell_type": "code",
   "execution_count": 50,
   "id": "2e9c3f5a",
   "metadata": {},
   "outputs": [
    {
     "data": {
      "text/html": [
       "<div>\n",
       "<style scoped>\n",
       "    .dataframe tbody tr th:only-of-type {\n",
       "        vertical-align: middle;\n",
       "    }\n",
       "\n",
       "    .dataframe tbody tr th {\n",
       "        vertical-align: top;\n",
       "    }\n",
       "\n",
       "    .dataframe thead th {\n",
       "        text-align: right;\n",
       "    }\n",
       "</style>\n",
       "<table border=\"1\" class=\"dataframe\">\n",
       "  <thead>\n",
       "    <tr style=\"text-align: right;\">\n",
       "      <th></th>\n",
       "      <th>decision_iteration</th>\n",
       "      <th>accept</th>\n",
       "      <th>reject_below</th>\n",
       "      <th>reject_above</th>\n",
       "      <th>conclusive</th>\n",
       "      <th>inconclusive</th>\n",
       "      <th>successes</th>\n",
       "      <th>failures</th>\n",
       "      <th>hdi_min</th>\n",
       "      <th>hdi_max</th>\n",
       "      <th>precision</th>\n",
       "      <th>success_rate</th>\n",
       "    </tr>\n",
       "    <tr>\n",
       "      <th>experiment_number</th>\n",
       "      <th></th>\n",
       "      <th></th>\n",
       "      <th></th>\n",
       "      <th></th>\n",
       "      <th></th>\n",
       "      <th></th>\n",
       "      <th></th>\n",
       "      <th></th>\n",
       "      <th></th>\n",
       "      <th></th>\n",
       "      <th></th>\n",
       "      <th></th>\n",
       "    </tr>\n",
       "  </thead>\n",
       "  <tbody>\n",
       "    <tr>\n",
       "      <th>0</th>\n",
       "      <td>424</td>\n",
       "      <td>True</td>\n",
       "      <td>False</td>\n",
       "      <td>False</td>\n",
       "      <td>True</td>\n",
       "      <td>False</td>\n",
       "      <td>211</td>\n",
       "      <td>213</td>\n",
       "      <td>0.45014</td>\n",
       "      <td>0.545164</td>\n",
       "      <td>0.095024</td>\n",
       "      <td>0.497642</td>\n",
       "    </tr>\n",
       "    <tr>\n",
       "      <th>1</th>\n",
       "      <td>443</td>\n",
       "      <td>True</td>\n",
       "      <td>False</td>\n",
       "      <td>False</td>\n",
       "      <td>True</td>\n",
       "      <td>False</td>\n",
       "      <td>223</td>\n",
       "      <td>220</td>\n",
       "      <td>0.456903</td>\n",
       "      <td>0.549872</td>\n",
       "      <td>0.092969</td>\n",
       "      <td>0.503386</td>\n",
       "    </tr>\n",
       "    <tr>\n",
       "      <th>2</th>\n",
       "      <td>794</td>\n",
       "      <td>True</td>\n",
       "      <td>False</td>\n",
       "      <td>False</td>\n",
       "      <td>True</td>\n",
       "      <td>False</td>\n",
       "      <td>409</td>\n",
       "      <td>385</td>\n",
       "      <td>0.48037</td>\n",
       "      <td>0.549832</td>\n",
       "      <td>0.069462</td>\n",
       "      <td>0.515113</td>\n",
       "    </tr>\n",
       "    <tr>\n",
       "      <th>3</th>\n",
       "      <td>597</td>\n",
       "      <td>True</td>\n",
       "      <td>False</td>\n",
       "      <td>False</td>\n",
       "      <td>True</td>\n",
       "      <td>False</td>\n",
       "      <td>293</td>\n",
       "      <td>304</td>\n",
       "      <td>0.450736</td>\n",
       "      <td>0.530843</td>\n",
       "      <td>0.080107</td>\n",
       "      <td>0.490787</td>\n",
       "    </tr>\n",
       "    <tr>\n",
       "      <th>4</th>\n",
       "      <td>445</td>\n",
       "      <td>True</td>\n",
       "      <td>False</td>\n",
       "      <td>False</td>\n",
       "      <td>True</td>\n",
       "      <td>False</td>\n",
       "      <td>224</td>\n",
       "      <td>221</td>\n",
       "      <td>0.456992</td>\n",
       "      <td>0.549753</td>\n",
       "      <td>0.092761</td>\n",
       "      <td>0.503371</td>\n",
       "    </tr>\n",
       "    <tr>\n",
       "      <th>...</th>\n",
       "      <td>...</td>\n",
       "      <td>...</td>\n",
       "      <td>...</td>\n",
       "      <td>...</td>\n",
       "      <td>...</td>\n",
       "      <td>...</td>\n",
       "      <td>...</td>\n",
       "      <td>...</td>\n",
       "      <td>...</td>\n",
       "      <td>...</td>\n",
       "      <td>...</td>\n",
       "      <td>...</td>\n",
       "    </tr>\n",
       "    <tr>\n",
       "      <th>495</th>\n",
       "      <td>1157</td>\n",
       "      <td>True</td>\n",
       "      <td>False</td>\n",
       "      <td>False</td>\n",
       "      <td>True</td>\n",
       "      <td>False</td>\n",
       "      <td>554</td>\n",
       "      <td>603</td>\n",
       "      <td>0.450073</td>\n",
       "      <td>0.507607</td>\n",
       "      <td>0.057534</td>\n",
       "      <td>0.478825</td>\n",
       "    </tr>\n",
       "    <tr>\n",
       "      <th>496</th>\n",
       "      <td>1075</td>\n",
       "      <td>True</td>\n",
       "      <td>False</td>\n",
       "      <td>False</td>\n",
       "      <td>True</td>\n",
       "      <td>False</td>\n",
       "      <td>516</td>\n",
       "      <td>559</td>\n",
       "      <td>0.450169</td>\n",
       "      <td>0.50986</td>\n",
       "      <td>0.059691</td>\n",
       "      <td>0.48</td>\n",
       "    </tr>\n",
       "    <tr>\n",
       "      <th>497</th>\n",
       "      <td>845</td>\n",
       "      <td>True</td>\n",
       "      <td>False</td>\n",
       "      <td>False</td>\n",
       "      <td>True</td>\n",
       "      <td>False</td>\n",
       "      <td>436</td>\n",
       "      <td>409</td>\n",
       "      <td>0.482297</td>\n",
       "      <td>0.54963</td>\n",
       "      <td>0.067334</td>\n",
       "      <td>0.515976</td>\n",
       "    </tr>\n",
       "    <tr>\n",
       "      <th>498</th>\n",
       "      <td>604</td>\n",
       "      <td>True</td>\n",
       "      <td>False</td>\n",
       "      <td>False</td>\n",
       "      <td>True</td>\n",
       "      <td>False</td>\n",
       "      <td>308</td>\n",
       "      <td>296</td>\n",
       "      <td>0.47011</td>\n",
       "      <td>0.54975</td>\n",
       "      <td>0.07964</td>\n",
       "      <td>0.509934</td>\n",
       "    </tr>\n",
       "    <tr>\n",
       "      <th>499</th>\n",
       "      <td>10</td>\n",
       "      <td>False</td>\n",
       "      <td>True</td>\n",
       "      <td>False</td>\n",
       "      <td>True</td>\n",
       "      <td>False</td>\n",
       "      <td>2</td>\n",
       "      <td>8</td>\n",
       "      <td>0.008635</td>\n",
       "      <td>0.43345</td>\n",
       "      <td>0.424815</td>\n",
       "      <td>0.2</td>\n",
       "    </tr>\n",
       "  </tbody>\n",
       "</table>\n",
       "<p>500 rows × 12 columns</p>\n",
       "</div>"
      ],
      "text/plain": [
       "                  decision_iteration accept reject_below reject_above  \\\n",
       "experiment_number                                                       \n",
       "0                                424   True        False        False   \n",
       "1                                443   True        False        False   \n",
       "2                                794   True        False        False   \n",
       "3                                597   True        False        False   \n",
       "4                                445   True        False        False   \n",
       "...                              ...    ...          ...          ...   \n",
       "495                             1157   True        False        False   \n",
       "496                             1075   True        False        False   \n",
       "497                              845   True        False        False   \n",
       "498                              604   True        False        False   \n",
       "499                               10  False         True        False   \n",
       "\n",
       "                  conclusive inconclusive successes failures   hdi_min  \\\n",
       "experiment_number                                                        \n",
       "0                       True        False       211      213   0.45014   \n",
       "1                       True        False       223      220  0.456903   \n",
       "2                       True        False       409      385   0.48037   \n",
       "3                       True        False       293      304  0.450736   \n",
       "4                       True        False       224      221  0.456992   \n",
       "...                      ...          ...       ...      ...       ...   \n",
       "495                     True        False       554      603  0.450073   \n",
       "496                     True        False       516      559  0.450169   \n",
       "497                     True        False       436      409  0.482297   \n",
       "498                     True        False       308      296   0.47011   \n",
       "499                     True        False         2        8  0.008635   \n",
       "\n",
       "                    hdi_max precision success_rate  \n",
       "experiment_number                                   \n",
       "0                  0.545164  0.095024     0.497642  \n",
       "1                  0.549872  0.092969     0.503386  \n",
       "2                  0.549832  0.069462     0.515113  \n",
       "3                  0.530843  0.080107     0.490787  \n",
       "4                  0.549753  0.092761     0.503371  \n",
       "...                     ...       ...          ...  \n",
       "495                0.507607  0.057534     0.478825  \n",
       "496                 0.50986  0.059691         0.48  \n",
       "497                 0.54963  0.067334     0.515976  \n",
       "498                 0.54975   0.07964     0.509934  \n",
       "499                 0.43345  0.424815          0.2  \n",
       "\n",
       "[500 rows x 12 columns]"
      ]
     },
     "execution_count": 50,
     "metadata": {},
     "output_type": "execute_result"
    }
   ],
   "source": [
    "method_df_stats = {method_name: stats_dict_to_df(method_stats[method_name]) for method_name in method_stats}\n",
    "\n",
    "method_df_stats[\"hdi_rope\"]"
   ]
  },
  {
   "cell_type": "code",
   "execution_count": 51,
   "id": "22ded528",
   "metadata": {},
   "outputs": [
    {
     "data": {
      "text/html": [
       "<div>\n",
       "<style scoped>\n",
       "    .dataframe tbody tr th:only-of-type {\n",
       "        vertical-align: middle;\n",
       "    }\n",
       "\n",
       "    .dataframe tbody tr th {\n",
       "        vertical-align: top;\n",
       "    }\n",
       "\n",
       "    .dataframe thead th {\n",
       "        text-align: right;\n",
       "    }\n",
       "</style>\n",
       "<table border=\"1\" class=\"dataframe\">\n",
       "  <thead>\n",
       "    <tr style=\"text-align: right;\">\n",
       "      <th></th>\n",
       "      <th>iteration</th>\n",
       "      <th>accept</th>\n",
       "      <th>reject_below</th>\n",
       "      <th>reject_above</th>\n",
       "      <th>reject</th>\n",
       "      <th>inconclusive</th>\n",
       "    </tr>\n",
       "  </thead>\n",
       "  <tbody>\n",
       "    <tr>\n",
       "      <th>0</th>\n",
       "      <td>1</td>\n",
       "      <td>0</td>\n",
       "      <td>0</td>\n",
       "      <td>0</td>\n",
       "      <td>0</td>\n",
       "      <td>500</td>\n",
       "    </tr>\n",
       "    <tr>\n",
       "      <th>1</th>\n",
       "      <td>2</td>\n",
       "      <td>0</td>\n",
       "      <td>0</td>\n",
       "      <td>0</td>\n",
       "      <td>0</td>\n",
       "      <td>500</td>\n",
       "    </tr>\n",
       "    <tr>\n",
       "      <th>2</th>\n",
       "      <td>3</td>\n",
       "      <td>0</td>\n",
       "      <td>0</td>\n",
       "      <td>0</td>\n",
       "      <td>0</td>\n",
       "      <td>500</td>\n",
       "    </tr>\n",
       "    <tr>\n",
       "      <th>3</th>\n",
       "      <td>4</td>\n",
       "      <td>0</td>\n",
       "      <td>0</td>\n",
       "      <td>0</td>\n",
       "      <td>0</td>\n",
       "      <td>500</td>\n",
       "    </tr>\n",
       "    <tr>\n",
       "      <th>4</th>\n",
       "      <td>5</td>\n",
       "      <td>0</td>\n",
       "      <td>14</td>\n",
       "      <td>13</td>\n",
       "      <td>27</td>\n",
       "      <td>473</td>\n",
       "    </tr>\n",
       "    <tr>\n",
       "      <th>...</th>\n",
       "      <td>...</td>\n",
       "      <td>...</td>\n",
       "      <td>...</td>\n",
       "      <td>...</td>\n",
       "      <td>...</td>\n",
       "      <td>...</td>\n",
       "    </tr>\n",
       "    <tr>\n",
       "      <th>1495</th>\n",
       "      <td>1496</td>\n",
       "      <td>373</td>\n",
       "      <td>62</td>\n",
       "      <td>59</td>\n",
       "      <td>121</td>\n",
       "      <td>6</td>\n",
       "    </tr>\n",
       "    <tr>\n",
       "      <th>1496</th>\n",
       "      <td>1497</td>\n",
       "      <td>373</td>\n",
       "      <td>62</td>\n",
       "      <td>59</td>\n",
       "      <td>121</td>\n",
       "      <td>6</td>\n",
       "    </tr>\n",
       "    <tr>\n",
       "      <th>1497</th>\n",
       "      <td>1498</td>\n",
       "      <td>373</td>\n",
       "      <td>62</td>\n",
       "      <td>59</td>\n",
       "      <td>121</td>\n",
       "      <td>6</td>\n",
       "    </tr>\n",
       "    <tr>\n",
       "      <th>1498</th>\n",
       "      <td>1499</td>\n",
       "      <td>373</td>\n",
       "      <td>62</td>\n",
       "      <td>59</td>\n",
       "      <td>121</td>\n",
       "      <td>6</td>\n",
       "    </tr>\n",
       "    <tr>\n",
       "      <th>1499</th>\n",
       "      <td>1500</td>\n",
       "      <td>373</td>\n",
       "      <td>62</td>\n",
       "      <td>59</td>\n",
       "      <td>121</td>\n",
       "      <td>6</td>\n",
       "    </tr>\n",
       "  </tbody>\n",
       "</table>\n",
       "<p>1500 rows × 6 columns</p>\n",
       "</div>"
      ],
      "text/plain": [
       "      iteration  accept  reject_below  reject_above  reject  inconclusive\n",
       "0             1       0             0             0       0           500\n",
       "1             2       0             0             0       0           500\n",
       "2             3       0             0             0       0           500\n",
       "3             4       0             0             0       0           500\n",
       "4             5       0            14            13      27           473\n",
       "...         ...     ...           ...           ...     ...           ...\n",
       "1495       1496     373            62            59     121             6\n",
       "1496       1497     373            62            59     121             6\n",
       "1497       1498     373            62            59     121             6\n",
       "1498       1499     373            62            59     121             6\n",
       "1499       1500     373            62            59     121             6\n",
       "\n",
       "[1500 rows x 6 columns]"
      ]
     },
     "execution_count": 51,
     "metadata": {},
     "output_type": "execute_result"
    }
   ],
   "source": [
    "method_df_iteration_counts = {method_name: iteration_counts_to_df(method_roperesult_iteration[method_name], experiments) for method_name in method_roperesult_iteration}\n",
    "\n",
    "method_df_iteration_counts[\"hdi_rope\"]"
   ]
  },
  {
   "cell_type": "code",
   "execution_count": 52,
   "id": "0fd8c451",
   "metadata": {},
   "outputs": [
    {
     "data": {
      "image/png": "[encoded data removed]",
      "text/plain": [
       "<Figure size 800x600 with 1 Axes>"
      ]
     },
     "metadata": {},
     "output_type": "display_data"
    }
   ],
   "source": [
    "plot_multiple_decision_rates_jammed(method_df_iteration_counts, success_rate, experiments, iteration_values=None)"
   ]
  },
  {
   "cell_type": "code",
   "execution_count": 53,
   "id": "cdd8eff8",
   "metadata": {},
   "outputs": [
    {
     "data": {
      "image/png": "[encoded data removed]",
      "text/plain": [
       "<Figure size 1600x600 with 2 Axes>"
      ]
     },
     "metadata": {},
     "output_type": "display_data"
    }
   ],
   "source": [
    "viz_epitg = True\n",
    "plot_multiple_decision_rates_separate(method_df_iteration_counts, success_rate, experiments, viz_epitg=viz_epitg, iteration_values=None)"
   ]
  },
  {
   "cell_type": "code",
   "execution_count": 54,
   "id": "01a10555",
   "metadata": {},
   "outputs": [
    {
     "data": {
      "image/png": "[encoded data removed]",
      "text/plain": [
       "<Figure size 800x600 with 1 Axes>"
      ]
     },
     "metadata": {},
     "output_type": "display_data"
    }
   ],
   "source": [
    "scatter_stop_iter_sample_rate(method_df_stats, rope_min=rope_min, rope_max=rope_max, success_rate=success_rate, title=None)"
   ]
  },
  {
   "cell_type": "markdown",
   "id": "8ae24c8d",
   "metadata": {},
   "source": [
    "# Old Scripts\n",
    "Some still useful!"
   ]
  },
  {
   "cell_type": "code",
   "execution_count": 28,
   "id": "5352de7e",
   "metadata": {},
   "outputs": [],
   "source": [
    "dict_successes_failures_hdi_limits = {}\n",
    "dict_successes_failures_counter = {}\n",
    "\n",
    "def _update_iteration_tally(iteration_dict, iteration):\n",
    "    for this_iteration in range(iteration, len(iteration_dict)+1):\n",
    "        iteration_dict[this_iteration] += 1\n",
    "\n",
    "def booleans_to_rope_result(decision_accept, decision_reject_below, decision_reject_above):\n",
    "    if decision_accept:\n",
    "        return \"within\"\n",
    "    elif decision_reject_below:\n",
    "        return \"below\"\n",
    "    elif decision_reject_above:\n",
    "        return \"above\"\n",
    "\n",
    "def successes_failures_to_hdi_limits(successes, failures):\n",
    "\n",
    "    pair = (successes, failures)\n",
    "    if pair not in dict_successes_failures_hdi_limits:\n",
    "        dict_successes_failures_hdi_limits[pair] =\\\n",
    "            successes_failures_caculate_hdi_limits(successes, failures)\n",
    "        dict_successes_failures_counter[pair] = 1\n",
    "    else:\n",
    "        dict_successes_failures_counter[pair] += 1\n",
    "\n",
    "    return dict_successes_failures_hdi_limits[pair]\n",
    "\n",
    "\n",
    "def successes_failures_caculate_hdi_limits(successes, failures):\n",
    "    aa = int(successes)\n",
    "    bb = int(failures)\n",
    "    \n",
    "    if not failures:\n",
    "        aa += 1\n",
    "        bb += 1\n",
    "        \n",
    "    if not successes:\n",
    "        aa += 1\n",
    "        bb += 1\n",
    "\n",
    "    hdi_min, hdi_max = successes_failures_to_hdi_ci_limits(aa, bb)\n",
    "\n",
    "    return hdi_min, hdi_max"
   ]
  },
  {
   "cell_type": "code",
   "execution_count": 29,
   "id": "0c332ff1",
   "metadata": {},
   "outputs": [
    {
     "name": "stdout",
     "output_type": "stream",
     "text": [
      "hdi_rope above\n"
     ]
    },
    {
     "data": {
      "text/plain": [
       "1500"
      ]
     },
     "execution_count": 29,
     "metadata": {},
     "output_type": "execute_result"
    }
   ],
   "source": [
    "# For each method and rope result type creating tally of outcomes\n",
    "\n",
    "method_roperesult_iteration = {}\n",
    "methods = [\"pitg\", \"epitg\", \"hdi_rope\"]\n",
    "rope_results = [\"within\", \"below\", \"above\"]\n",
    "for method in methods:\n",
    "    method_roperesult_iteration[method] = {}\n",
    "    for rope_result in rope_results:\n",
    "        method_roperesult_iteration[method][rope_result] = {iteration: 0 for iteration in range(1, n_samples + 1)}\n",
    "\n",
    "print(method, rope_result)\n",
    "len(method_roperesult_iteration[method][rope_result])"
   ]
  },
  {
   "cell_type": "code",
   "execution_count": 30,
   "id": "addfd891",
   "metadata": {
    "lines_to_next_cell": 2
   },
   "outputs": [],
   "source": [
    "iteration_number = np.arange(1, n_samples + 1)\n",
    "\n",
    "method_stats = {\"pitg\": {}, \"epitg\": {}, \"hdi_rope\": {}}\n",
    "\n",
    "for isample, sample in enumerate(samples):\n",
    "    pitg_stopped = False\n",
    "    hdi_rope_stopped = False\n",
    "\n",
    "    iteration_successes = sample.cumsum()\n",
    "    iteration_failures = iteration_number - iteration_successes\n",
    "\n",
    "    for iteration, successes, failures in zip(iteration_number, iteration_successes, iteration_failures):\n",
    "        final_iteration = iteration == iteration_number[-1]\n",
    "        hdi_min, hdi_max = successes_failures_to_hdi_limits(successes, failures)\n",
    "        #hdi_min, hdi_max = successes_failures_caculate_hdi_limits(successes, failures)\n",
    "\n",
    "        # has the precision goal been achieved?\n",
    "        precision_goal_achieved = (hdi_max - hdi_min) < precision_goal\n",
    "\n",
    "        # is the HDI conclusively within or outside the ROPE?\n",
    "        decision_accept = (hdi_min >= rope_min) & (hdi_max <= rope_max)\n",
    "        decision_reject_below = hdi_max < rope_min  \n",
    "        decision_reject_above = rope_max < hdi_min\n",
    "        conclusive = decision_accept | decision_reject_above | decision_reject_below\n",
    "\n",
    "        iteration_results = {\"decision_iteration\": iteration,\n",
    "                                                 \"accept\": decision_accept,\n",
    "                                                    \"reject_below\": decision_reject_below,\n",
    "                                                    \"reject_above\": decision_reject_above,\n",
    "                                                    \"conclusive\": conclusive,\n",
    "                                                    \"inconclusive\": not conclusive,\n",
    "                                                    \"successes\": successes,\n",
    "                                                    \"failures\": failures,\n",
    "                                                    \"hdi_min\": hdi_min,\n",
    "                                                    \"hdi_max\": hdi_max,\n",
    "                                                 }   \n",
    "\n",
    "        if precision_goal_achieved:\n",
    "\n",
    "            # update Precision Is The Goal Stop\n",
    "            if pitg_stopped is False:\n",
    "                # not applying `break` because we continue for ePiTG\n",
    "                if conclusive:\n",
    "                    rope_result = booleans_to_rope_result(decision_accept, decision_reject_below, decision_reject_above)\n",
    "                    _update_iteration_tally(method_roperesult_iteration[\"pitg\"][rope_result], iteration)\n",
    "                method_stats[\"pitg\"][isample] = iteration_results\n",
    "                pitg_stopped = True  # sample does not continue with PITG (only ePiTG) \n",
    "\n",
    "            # continue with Enhance Precision Is The Goal\n",
    "            if conclusive:\n",
    "                rope_result = booleans_to_rope_result(decision_accept, decision_reject_below, decision_reject_above)\n",
    "                _update_iteration_tally(method_roperesult_iteration[\"epitg\"][rope_result], iteration)\n",
    "\n",
    "                if hdi_rope_stopped is False:\n",
    "                    _update_iteration_tally(method_roperesult_iteration[\"hdi_rope\"][rope_result], iteration)\n",
    "                    \n",
    "            if conclusive | final_iteration:\n",
    "                method_stats[\"epitg\"][isample] = iteration_results\n",
    "\n",
    "                if hdi_rope_stopped is False:\n",
    "                    method_stats[\"hdi_rope\"][isample] = iteration_results\n",
    "                    hdi_rope_stopped = True\n",
    "\n",
    "                if final_iteration:\n",
    "                    print(f\"Sample {isample} at final iteration\")\n",
    "                    print(method_stats[\"epitg\"][isample])\n",
    "                break\n",
    "        \n",
    "        elif conclusive & (hdi_rope_stopped is False):\n",
    "            # case in which precision not achieved yet but conclusive.\n",
    "            # this is the HDI+ROPE approach which disregards precision\n",
    "            rope_result = booleans_to_rope_result(decision_accept, decision_reject_below, decision_reject_above)\n",
    "            _update_iteration_tally(method_roperesult_iteration[\"hdi_rope\"][rope_result], iteration)\n",
    "            method_stats[\"hdi_rope\"][isample] = iteration_results\n",
    "\n",
    "            hdi_rope_stopped = True\n",
    "\n",
    "        elif final_iteration:\n",
    "            # ensures that if reached final iteration and not conclusive that\n",
    "            # results are still recorded as inconclusive\n",
    "            \n",
    "            \"\"\"\n",
    "            decision_accept = False\n",
    "            decision_reject_below = False\n",
    "            decision_reject_above = False\n",
    "            conclusive = False\n",
    "            \"\"\"\n",
    "            if isample not in method_stats[\"hdi_rope\"]:\n",
    "               method_stats[\"hdi_rope\"][isample] = iteration_results\n",
    "            if isample not in method_stats[\"pitg\"]:\n",
    "                method_stats[\"pitg\"][isample] = iteration_results\n",
    "            if isample not in method_stats[\"epitg\"]:\n",
    "                method_stats[\"epitg\"][isample] = iteration_results\n",
    "            break"
   ]
  },
  {
   "cell_type": "code",
   "execution_count": null,
   "id": "56e9100d",
   "metadata": {},
   "outputs": [],
   "source": [
    "# examining uniqueness distributions of success and failure pairs\n",
    "pd.Series(dict_successes_failures_counter).value_counts(normalize=True).sort_index()"
   ]
  },
  {
   "cell_type": "code",
   "execution_count": null,
   "id": "dac33e0b",
   "metadata": {},
   "outputs": [],
   "source": [
    "def stats_dict_to_df(method_stats):\n",
    "    df = pd.DataFrame(method_stats).T\n",
    "    df.index.name = \"experiment_number\"\n",
    "    df[\"precision\"] = df[\"hdi_max\"] - df[\"hdi_min\"]\n",
    "    df[\"success_rate\"] = df[\"successes\"] / (df[\"successes\"] + df[\"failures\"])\n",
    "    return df\n",
    "\n",
    "\n",
    "df_stats_epitg = stats_dict_to_df(method_stats[\"epitg\"])\n",
    "print(df_stats_epitg.shape)\n",
    "df_stats_epitg.head(4)"
   ]
  },
  {
   "cell_type": "code",
   "execution_count": null,
   "id": "d82f784c",
   "metadata": {},
   "outputs": [],
   "source": [
    "df_stats_pitg = stats_dict_to_df(method_stats[\"pitg\"])\n",
    "print(df_stats_pitg.shape)\n",
    "df_stats_pitg.head(4)"
   ]
  },
  {
   "cell_type": "code",
   "execution_count": null,
   "id": "75275541",
   "metadata": {},
   "outputs": [],
   "source": [
    "df_stats_hdirope = stats_dict_to_df(method_stats[\"hdi_rope\"])\n",
    "print(df_stats_hdirope.shape)\n",
    "df_stats_hdirope.head(4)"
   ]
  },
  {
   "cell_type": "code",
   "execution_count": null,
   "id": "47b89155",
   "metadata": {},
   "outputs": [],
   "source": [
    "df_stats_pitg.equals(df_stats_epitg)"
   ]
  },
  {
   "cell_type": "code",
   "execution_count": null,
   "id": "20c825fb",
   "metadata": {
    "lines_to_next_cell": 2
   },
   "outputs": [],
   "source": [
    "def iteration_counts_to_df(roperesult_iteration, experiments):\n",
    "    df = pd.DataFrame({\n",
    "        \"iteration\": list(roperesult_iteration[\"within\"].keys()),\n",
    "        \"accept\": list(roperesult_iteration[\"within\"].values()),\n",
    "        \"reject_below\": list(roperesult_iteration[\"below\"].values()),\n",
    "        \"reject_above\": list(roperesult_iteration[\"above\"].values())\n",
    "    })\n",
    "\n",
    "    df['reject'] = df['reject_above'] + df['reject_below']\n",
    "    df['inconclusive'] = experiments - df['accept'] - df['reject']\n",
    "\n",
    "    return df\n",
    "\n",
    "df_pitg_counts = iteration_counts_to_df(method_roperesult_iteration[\"pitg\"], experiments)\n",
    "df_epitg_counts = iteration_counts_to_df(method_roperesult_iteration[\"epitg\"], experiments)\n",
    "df_hdirope_counts = iteration_counts_to_df(method_roperesult_iteration[\"hdi_rope\"], experiments)\n",
    "\n",
    "\n",
    "df_epitg_counts.head(4)"
   ]
  },
  {
   "cell_type": "code",
   "execution_count": null,
   "id": "393d2c53",
   "metadata": {},
   "outputs": [],
   "source": [
    "df_epitg_counts.describe()"
   ]
  },
  {
   "cell_type": "code",
   "execution_count": null,
   "id": "07624009",
   "metadata": {},
   "outputs": [],
   "source": [
    "df_pitg_counts.describe()"
   ]
  },
  {
   "cell_type": "code",
   "execution_count": null,
   "id": "f2241717",
   "metadata": {},
   "outputs": [],
   "source": [
    "df_hdirope_counts.describe()"
   ]
  },
  {
   "cell_type": "code",
   "execution_count": null,
   "id": "c89be977",
   "metadata": {},
   "outputs": [],
   "source": [
    "df_pitg_counts.equals(df_epitg_counts)"
   ]
  },
  {
   "cell_type": "code",
   "execution_count": null,
   "id": "3fe08fd9",
   "metadata": {
    "lines_to_next_cell": 2
   },
   "outputs": [],
   "source": [
    "title = f\"true success rate = {success_rate:0.3f}\"\n",
    "xlabel = \"iteration\"\n",
    "\n",
    "iteration_values = df_pitg_counts[\"iteration\"]\n",
    "\n",
    "# plotting HDI+ROPE\n",
    "alpha, linewidth, linestyle = 0.2, 1, \"-.\"\n",
    "plt.plot(iteration_values, df_hdirope_counts['accept'] / experiments, color=\"green\", linewidth=linewidth, alpha=alpha, linestyle=linestyle)\n",
    "plt.plot(iteration_values, df_hdirope_counts['reject'] / experiments, color=\"red\", linewidth=linewidth, alpha=alpha, linestyle=linestyle)\n",
    "plt.plot(iteration_values, df_hdirope_counts['inconclusive'] / experiments, color=\"gray\", linewidth=linewidth, alpha=alpha, linestyle=linestyle)\n",
    "\n",
    "\n",
    "# plotting pitg\n",
    "alpha, linewidth = 0.4, 5\n",
    "plt.plot(iteration_values, df_pitg_counts['accept'] / experiments, color=\"green\", linewidth=linewidth, alpha=alpha)\n",
    "plt.plot(iteration_values, df_pitg_counts['reject'] / experiments, color=\"red\", linewidth=linewidth, alpha=alpha)\n",
    "plt.plot(iteration_values, df_pitg_counts['inconclusive'] / experiments, color=\"gray\", linewidth=linewidth, alpha=alpha)\n",
    "\n",
    "# plotting epitg\n",
    "alpha, linewidth, linestyle = 0.7, 3, \"--\"\n",
    "plt.plot(iteration_values, df_epitg_counts['accept'] / experiments, color=\"green\", linewidth=linewidth, alpha=alpha, linestyle=linestyle)\n",
    "plt.plot(iteration_values, df_epitg_counts['reject'] / experiments, color=\"red\", linewidth=linewidth, alpha=alpha, linestyle=linestyle)\n",
    "plt.plot(iteration_values, df_epitg_counts['inconclusive'] / experiments, color=\"gray\", linewidth=linewidth, alpha=alpha, linestyle=linestyle)\n",
    "\n",
    "\n",
    "#plt.xscale('log')\n",
    "#plt.yscale('log')\n",
    "plt.xlabel(xlabel)\n",
    "plt.ylabel(f\"proportion of {experiments:,} experiments\")\n",
    "plt.title(title)"
   ]
  },
  {
   "cell_type": "code",
   "execution_count": null,
   "id": "931987f2",
   "metadata": {},
   "outputs": [],
   "source": [
    "plt.figure(figsize=(FIG_WIDTH * 2, FIG_HEIGHT))\n",
    "\n",
    "viz_epitg = True\n",
    "\n",
    "suptitle = f\"true success rate = {success_rate:0.3f}\"\n",
    "alpha=0.7\n",
    "\n",
    "linestyle_accept, linewidth_accept = None, 5\n",
    "linestyle_reject, linewidth_reject = \"--\", 3\n",
    "linestyle_inconclusive, linewidth_inconclusive = \"-.\", 1\n",
    "\n",
    "\n",
    "plt.subplot(1, 2, 1)\n",
    "\n",
    "# plotting HDI+ROPE\n",
    "plt.plot(iteration_values, df_hdirope_counts['accept'] / experiments, color=\"green\", linewidth=linewidth_accept, alpha=alpha, linestyle=linestyle_accept, label=\"accept\")\n",
    "plt.plot(iteration_values, df_hdirope_counts['reject'] / experiments, color=\"red\", linewidth=linewidth_reject, alpha=alpha, linestyle=linestyle_reject, label=\"reject\")\n",
    "plt.plot(iteration_values, df_hdirope_counts['inconclusive'] / experiments, color=\"gray\", linewidth=linewidth_inconclusive, alpha=alpha, linestyle=linestyle_inconclusive, label=\"inconclusive/\\ncollect more\")\n",
    "\n",
    "plt.legend(title=\"decision\")\n",
    "plt.xlabel(xlabel)\n",
    "plt.ylabel(f\"proportion of {experiments:,} experiments\")\n",
    "plt.title(\"HDI + ROPE\")\n",
    "\n",
    "\n",
    "plt.subplot(1, 2, 2)\n",
    "\n",
    "# plotting PitG\n",
    "plt.plot(iteration_values, df_pitg_counts['accept'] / experiments, color=\"green\", linewidth=linewidth_accept, alpha=alpha, linestyle=linestyle_accept, label=\"accept\")\n",
    "plt.plot(iteration_values, df_pitg_counts['reject'] / experiments, color=\"red\", linewidth=linewidth_reject, alpha=alpha, linestyle=linestyle_reject, label=\"reject\")\n",
    "plt.plot(iteration_values, df_pitg_counts['inconclusive'] / experiments, color=\"gray\", linewidth=linewidth_inconclusive, alpha=alpha, linestyle=linestyle_inconclusive, label=\"inconclusive/\\ncollect more\")\n",
    "\n",
    "if viz_epitg:\n",
    "    linewidth_epitg, alpha_epitg = 6, 0.3\n",
    "    plt.plot(iteration_values, df_epitg_counts['accept'] / experiments, color=\"green\", linewidth=linewidth_epitg, alpha=alpha_epitg, linestyle=linestyle_accept, label=None)\n",
    "    plt.plot(iteration_values, df_epitg_counts['reject'] / experiments, color=\"red\", linewidth=linewidth_epitg, alpha=alpha_epitg, linestyle=linestyle_reject, label=None)\n",
    "    plt.plot(iteration_values, df_epitg_counts['inconclusive'] / experiments, color=\"gray\", linewidth=linewidth_epitg, alpha=alpha_epitg, linestyle=linestyle_inconclusive, label=None)\n",
    "    plt.title(\"Precision is the Goal (thin), Enhanced (thick)\")\n",
    "else:\n",
    "    plt.title(\"Precision is the Goal\")\n",
    "\n",
    "\n",
    "plt.legend(title=\"decision\")\n",
    "plt.xlabel(xlabel)\n",
    "plt.ylabel(f\"proportion of {experiments:,} experiments\")\n",
    "\n",
    "\n",
    "plt.suptitle(suptitle, fontsize=20)\n",
    "plt.tight_layout()"
   ]
  },
  {
   "cell_type": "code",
   "execution_count": null,
   "id": "e3a9b608",
   "metadata": {},
   "outputs": [],
   "source": [
    "df_hdirope_counts.drop([\"iteration\", \"reject\"], axis=1).sum(axis=1).value_counts()"
   ]
  },
  {
   "cell_type": "code",
   "execution_count": null,
   "id": "cf10590d",
   "metadata": {},
   "outputs": [],
   "source": [
    "import seaborn as sns\n",
    "\n",
    "df_plot = df_stats_hdirope[[\"decision_iteration\", \"success_rate\"]]\n",
    "df_plot[\"method\"] = \"HDI + ROPE\"\n",
    "df_append = df_stats_pitg[[\"decision_iteration\", \"success_rate\"]]\n",
    "df_append[\"method\"] = \"PitG\"\n",
    "df_plot = pd.concat([df_plot, df_append])\n",
    "df_append = df_stats_epitg[[\"decision_iteration\", \"success_rate\"]]\n",
    "df_append[\"method\"] = \"ePiTG\"\n",
    "df_plot = pd.concat([df_plot, df_append])"
   ]
  },
  {
   "cell_type": "code",
   "execution_count": null,
   "id": "758a2ae6",
   "metadata": {},
   "outputs": [],
   "source": [
    "sns.jointplot(x=df_plot[\"decision_iteration\"], y=df_plot[\"success_rate\"], color=\"#4CB391\", hue=df_plot[\"method\"])"
   ]
  },
  {
   "cell_type": "code",
   "execution_count": null,
   "id": "a005fe10",
   "metadata": {},
   "outputs": [],
   "source": [
    "plt.figure(figsize=(FIG_WIDTH, 0.5 * FIG_HEIGHT))\n",
    "\n",
    "all_values = np.concatenate([df_stats_epitg[\"decision_iteration\"], df_stats_pitg[\"decision_iteration\"], df_stats_hdirope[\"decision_iteration\"] ])\n",
    "\n",
    "_, bins = np.histogram(all_values, bins=100)\n",
    "\n",
    "plt.hist(df_stats_pitg[\"decision_iteration\"], bins=bins, histtype='step', label=\"PitG\", color=\"orange\")\n",
    "plt.hist(df_stats_epitg[\"decision_iteration\"], bins=bins, histtype='step', label=\"ePitG\", color=\"purple\")   \n",
    "plt.hist(df_stats_hdirope[\"decision_iteration\"], bins=bins, histtype='step', label=\"HDI+ROPE\", color=\"blue\")   \n",
    "plt.xlabel(\"stop iteration\")\n",
    "plt.ylabel(\"number of experiments\")\n",
    "plt.legend()\n",
    "plt.title(title)\n",
    "pass"
   ]
  },
  {
   "cell_type": "code",
   "execution_count": null,
   "id": "fffa639a",
   "metadata": {
    "lines_to_next_cell": 2
   },
   "outputs": [],
   "source": [
    "# TODO: rope_min, rope_max are not defined\n",
    "def plot_pdf(sr_experiment_stats, xlim=None):\n",
    "    pp = np.linspace(0, 1, 1000)\n",
    "    pp_hdi = np.linspace(sr_experiment_stats[\"hdi_min\"], sr_experiment_stats[\"hdi_max\"], 1000)\n",
    "\n",
    "    successes = sr_experiment_stats[\"successes\"]\n",
    "    failures = sr_experiment_stats[\"failures\"]\n",
    "    rate = successes / (successes + failures)\n",
    "    n_ = successes + failures\n",
    "    hdi_min, hdi_max = successes_failures_to_hdi_limits(successes, failures)\n",
    "\n",
    "    pdf = beta.pdf(pp, successes, failures)\n",
    "    pdf_hdi = beta.pdf(pp_hdi, successes, failures)\n",
    "\n",
    "    plt.plot(pp, pdf, color=\"purple\", label=f\"pdf p={rate:0.3f}; n={n_:,}\")\n",
    "    label_hdi = f\"HDI Δ={hdi_max - hdi_min:0.3f}\"\n",
    "    plt.fill_between(pp_hdi, pdf_hdi, color=\"purple\", alpha=0.2, label=label_hdi)\n",
    "    plot_vhlines_lines(vertical=rope_min, label='ROPE', horizontal=None)\n",
    "    plot_vhlines_lines(vertical=rope_max, horizontal=None)\n",
    "    plt.legend()\n",
    "    plt.xlabel(\"success rate\")\n",
    "    plt.ylabel(\"probability density\")\n",
    "\n",
    "    if xlim:\n",
    "        plt.xlim(xlim)\n",
    "    else:\n",
    "        plt.xlim([rope_min - 0.1, rope_max + 0.1])"
   ]
  },
  {
   "cell_type": "code",
   "execution_count": null,
   "id": "ea7f0d8f",
   "metadata": {},
   "outputs": [],
   "source": [
    "# experiment with the latest iteration\n",
    "#idx = df_stats_epitg[\"decision_iteration\"].astype(float).argmax()\n",
    "\n",
    "\n",
    "# pitg inconclusive\n",
    "#idx = df_stats_pitg.query(\"inconclusive\").index[0]\n",
    "idx = df_stats_pitg.index[0]\n",
    "\n",
    "# ---\n",
    "sr_experiment_stats_pitg = df_stats_pitg.loc[idx]\n",
    "sr_experiment_stats_epitg = df_stats_epitg.loc[idx]\n",
    "\n",
    "fig, axs = plt.subplots(2, 1, figsize=(FIG_WIDTH, FIG_HEIGHT))\n",
    "\n",
    "plt.subplot(2, 1, 1)\n",
    "plot_pdf(sr_experiment_stats_pitg) #, xlim=(0.4,1))\n",
    "plt.title(\"Precision is the Goal\")\n",
    "\n",
    "plt.subplot(2, 1, 2)\n",
    "plt.title(\"Enhanced Precision is the Goal\")\n",
    "plot_pdf(sr_experiment_stats_epitg) #, xlim=(0.4,1))\n",
    "plt.tight_layout()"
   ]
  },
  {
   "cell_type": "code",
   "execution_count": null,
   "id": "171489e0",
   "metadata": {},
   "outputs": [],
   "source": [
    "df_stats_pitg.astype(float).describe()"
   ]
  },
  {
   "cell_type": "code",
   "execution_count": null,
   "id": "23206df1",
   "metadata": {
    "lines_to_next_cell": 0
   },
   "outputs": [],
   "source": [
    "plt.figure(figsize=(FIG_WIDTH, 0.5 * FIG_HEIGHT))\n",
    "\n",
    "all_values = np.concatenate([df_stats_epitg[\"success_rate\"], df_stats_pitg[\"success_rate\"], df_stats_hdirope[\"success_rate\"]])\n",
    "_, bins = np.histogram(all_values, bins=50)\n",
    "\n",
    "plt.hist(df_stats_pitg[\"success_rate\"], bins=bins, histtype='step', label=\"PitG\", color=\"orange\")\n",
    "plt.hist(df_stats_epitg[\"success_rate\"], bins=bins, histtype='step', label=\"ePitG\", color=\"purple\")\n",
    "plt.hist(df_stats_hdirope[\"success_rate\"], bins=bins, histtype='step', label=\"HDI + ROPE\", color=\"blue\")\n",
    "\n",
    "\n",
    "# marker of truth\n",
    "marker_style = dict(color='black', linestyle=':', marker='^',\n",
    "                    markersize=20, markerfacecoloralt='tab:black')\n",
    "plt.plot([success_rate], [0], fillstyle='none' , **marker_style)\n",
    "\n",
    "plot_vhlines_lines(vertical=rope_min, label='ROPE', horizontal=None)\n",
    "plot_vhlines_lines(vertical=rope_max, horizontal=None)\n",
    "\n",
    "# marker of pitg\n",
    "marker_style = dict(color='orange', linestyle='--', marker='^',\n",
    "                    markersize=30, markerfacecoloralt='tab:orange')\n",
    "plt.plot([df_stats_pitg[\"success_rate\"].mean()], [0], **marker_style, fillstyle='none')\n",
    "\n",
    "# marker of epitg\n",
    "marker_style = dict(color='purple', linestyle=':', marker='^',\n",
    "                   markersize=30, markerfacecoloralt='tab:purple')\n",
    "plt.plot([df_stats_epitg[\"success_rate\"].mean()], [0], **marker_style, fillstyle='none')\n",
    "\n",
    "# marker of hdi+rope\n",
    "marker_style = dict(color='blue', linestyle=':', marker='^',\n",
    "                    markersize=30, markerfacecoloralt='tab:blue')\n",
    "plt.plot([df_stats_hdirope[\"success_rate\"].mean()], [0], **marker_style, fillstyle='none')\n",
    "\n",
    "plt.legend()\n",
    "\n",
    "xlim = [np.min([rope_min, all_values.min()]), np.max([rope_max, all_values.max()])]\n",
    "plt.xlim([xlim[0] - 0.02, xlim[1] + 0.02])\n",
    "plt.title(title)\n",
    "plt.xlabel(\"success rate at stop\")"
   ]
  },
  {
   "cell_type": "code",
   "execution_count": null,
   "id": "7da0e66b",
   "metadata": {},
   "outputs": [],
   "source": [
    "plt.scatter(df_stats_hdirope[\"decision_iteration\"], df_stats_hdirope[\"success_rate\"], alpha=0.3, color=\"red\", label=\"HDI+ROPE\", marker=\"s\", s=20)\n",
    "plt.scatter(df_stats_pitg[\"decision_iteration\"], df_stats_pitg[\"success_rate\"], alpha=0.03, color=\"blue\", label=\"PitG\", marker=\".\")\n",
    "plt.scatter(df_stats_epitg[\"decision_iteration\"], df_stats_epitg[\"success_rate\"], alpha=0.3, color=\"lightgreen\", label=\"ePitG\", marker=\"o\", s=10)\n",
    "\n",
    "\n",
    "plt.scatter(df_stats_hdirope[\"decision_iteration\"].mean(), df_stats_hdirope[\"success_rate\"].mean(), color=\"red\", label=\"HDI+ROPE mean\", s=200, marker=\"$\\u25A1$\")\n",
    "plt.scatter(df_stats_pitg[\"decision_iteration\"].mean(), df_stats_pitg[\"success_rate\"].mean(), color=\"blue\", label=\"PitG mean\", s=200, marker=\"$\\u25EF$\")\n",
    "plt.scatter(df_stats_epitg[\"decision_iteration\"].mean(), df_stats_epitg[\"success_rate\"].mean(), color=\"lightgreen\", label=\"ePitG mean\", s=200, marker=\"$\\u25EF$\")\n",
    "\n",
    "\n",
    "\n",
    "plot_vhlines_lines(vertical=None, label='true success rate', horizontal=success_rate, alpha=0.7)\n",
    "\n",
    "plot_vhlines_lines(vertical=None, label='ROPE', horizontal=rope_min, linestyle=\"--\")\n",
    "plot_vhlines_lines(vertical=None, horizontal=rope_max, linestyle=\"--\")\n",
    "plt.xlabel(\"stop iteration\")\n",
    "plt.ylabel(\"success rate at stop\")\n",
    "\n",
    "plt.legend(title=f\"{len(df_stats_pitg):,} experiments\", loc=\"upper right\", fontsize=10)\n",
    "plt.title(title)\n",
    "plt.xlim(400, 800)\n",
    "plt.ylim(0.4, 0.6)"
   ]
  },
  {
   "cell_type": "code",
   "execution_count": null,
   "id": "de410afe",
   "metadata": {},
   "outputs": [],
   "source": [
    "(df_stats_hdirope.query(\"conclusive\")[\"reject_below\"] + df_stats_hdirope.query(\"conclusive\")[\"reject_above\"]).astype(float).sum() / len(df_stats_hdirope.query(\"conclusive\"))"
   ]
  },
  {
   "cell_type": "code",
   "execution_count": null,
   "id": "eedcd242",
   "metadata": {},
   "outputs": [],
   "source": [
    "df_stats_hdirope.query(f\"hdi_min > {success_rate-0.1}\").sort_values(\"hdi_min\")"
   ]
  },
  {
   "cell_type": "code",
   "execution_count": null,
   "id": "410732e7",
   "metadata": {},
   "outputs": [],
   "source": [
    "df_stats_hdirope[\"stop_success_rate\"] = df_stats_hdirope[\"successes\"] / df_stats_hdirope[\"decision_iteration\"]"
   ]
  },
  {
   "cell_type": "code",
   "execution_count": null,
   "id": "7b1e4a0a",
   "metadata": {},
   "outputs": [],
   "source": [
    "df_stats_hdirope.sort_values(\"stop_success_rate\", ascending=False).head(20)"
   ]
  },
  {
   "cell_type": "code",
   "execution_count": null,
   "id": "970ca3f8",
   "metadata": {},
   "outputs": [],
   "source": [
    "df_stats_hdirope.query(\"reject_above\").head(20)"
   ]
  },
  {
   "cell_type": "code",
   "execution_count": null,
   "id": "70926e97",
   "metadata": {},
   "outputs": [],
   "source": [
    "df_stats_epitg.sort_values(\"decision_iteration\", ascending=False)"
   ]
  },
  {
   "cell_type": "code",
   "execution_count": null,
   "id": "a6add808",
   "metadata": {},
   "outputs": [],
   "source": [
    "df_stats_pitg[\"inconclusive\"].value_counts()/ len(df_stats_pitg)"
   ]
  },
  {
   "cell_type": "code",
   "execution_count": null,
   "id": "97b035f9",
   "metadata": {},
   "outputs": [],
   "source": [
    "df_stats_epitg[\"inconclusive\"].value_counts()/ len(df_stats_pitg)"
   ]
  },
  {
   "cell_type": "code",
   "execution_count": null,
   "id": "1ff8b380",
   "metadata": {},
   "outputs": [],
   "source": [
    "df_stats_hdirope"
   ]
  },
  {
   "cell_type": "code",
   "execution_count": null,
   "id": "6e663519",
   "metadata": {},
   "outputs": [],
   "source": [
    "# In draft using isample= 179 of success_rate = 0.5\n",
    "# potential isample=203 - hdi+rope 99 , epitg >1,300\n",
    "# potential isample=221  - hdi+rope 31, epitg 886\n",
    "# potential isample=294\n",
    "# potential isample=333\n",
    "\n",
    "#isample = 2\n",
    "#isample=44\n",
    "#isample = 179 # found via df_stats_hdirope.query(\"reject_above\").head(20) #8 \n",
    "#isample = df_stats_hdirope.query(\"(reject_above) | (reject_below) \").query(\"decision_iteration > 50\").index[3]\n",
    "#isample = 250 # found via df_stats_epitg.sort_values(\"decision_iteration\", ascending=False)\n",
    "#isample = 353\n",
    "\n",
    "\n",
    "isamples_subset = list(sorted(set(df_stats_hdirope.query(\"(reject_above) | (reject_below) \").query(\"decision_iteration > 20\").index) & set(df_stats_pitg.query(\"inconclusive\").index) & set(df_stats_epitg.query(\"conclusive\").index)))\n",
    "isample = isamples_subset[8]\n",
    "\n",
    "print(isample)\n",
    "\n",
    "sample = samples[isample]\n",
    "iteration_successes = sample.cumsum()\n",
    "iteration_failures = iteration_number - iteration_successes\n",
    "\n",
    "sample_results = {}\n",
    "for iteration, successes, failures in zip(iteration_number, iteration_successes, iteration_failures):\n",
    "    final_iteration = iteration == iteration_number[-1]\n",
    "    hdi_min, hdi_max = successes_failures_to_hdi_limits(successes, failures)\n",
    "    #hdi_min, hdi_max = successes_failures_caculate_hdi_limits(successes, failures)\n",
    "\n",
    "    # has the precision goal been achieved?\n",
    "    precision_goal_achieved = (hdi_max - hdi_min) < precision_goal\n",
    "\n",
    "    # is the HDI conclusively within or outside the ROPE?\n",
    "    decision_accept = (hdi_min >= rope_min) & (hdi_max <= rope_max)\n",
    "    decision_reject_below = hdi_max < rope_min  \n",
    "    decision_reject_above = rope_max < hdi_min\n",
    "    conclusive = decision_accept | decision_reject_above | decision_reject_below\n",
    "\n",
    "\n",
    "    iteration_results = {\"decision_iteration\": iteration,\n",
    "                                                \"accept\": decision_accept,\n",
    "                                                \"reject_below\": decision_reject_below,\n",
    "                                                \"reject_above\": decision_reject_above,\n",
    "                                                \"conclusive\": conclusive,\n",
    "                                                \"inconclusive\": not conclusive,\n",
    "                                                \"successes\": successes,\n",
    "                                                \"failures\": failures,\n",
    "                                                \"hdi_min\": hdi_min,\n",
    "                                                \"hdi_max\": hdi_max,\n",
    "                                                \"goal_achieved\": precision_goal_achieved,\n",
    "                                                }   \n",
    "\n",
    "    sample_results[iteration] = iteration_results"
   ]
  },
  {
   "cell_type": "code",
   "execution_count": null,
   "id": "e615a865",
   "metadata": {},
   "outputs": [],
   "source": [
    "df_sample_results = pd.DataFrame(sample_results).T\n",
    "df_sample_results[\"hdi_max\"] = df_sample_results[\"hdi_max\"].astype(float)\n",
    "df_sample_results[\"hdi_min\"] = df_sample_results[\"hdi_min\"].astype(float)\n",
    "df_sample_results[\"decision_iteration\"] = df_sample_results[\"decision_iteration\"].astype(float)\n",
    "\n",
    "df_sample_conclusive = df_sample_results.query(\"conclusive\")\n",
    "display(df_sample_conclusive.head(4))\n",
    "\n",
    "df_sample_goal = df_sample_results.query(\"goal_achieved\")\n",
    "display(df_sample_goal.head(4))"
   ]
  },
  {
   "cell_type": "code",
   "execution_count": null,
   "id": "77125224",
   "metadata": {},
   "outputs": [],
   "source": [
    "df_sample_goal.query(\"conclusive\").head(4)"
   ]
  },
  {
   "cell_type": "code",
   "execution_count": null,
   "id": "eb1282b4",
   "metadata": {},
   "outputs": [],
   "source": [
    "# In draft using isample= 179 of success_rate = 0.5\n",
    "plt.figure(figsize=(FIG_WIDTH, FIG_HEIGHT))\n",
    "\n",
    "plt.plot(df_sample_results[\"decision_iteration\"], df_sample_results[\"hdi_min\"], color=\"gray\", label=None)\n",
    "plt.plot(df_sample_results[\"decision_iteration\"], df_sample_results[\"hdi_max\"], color=\"gray\", label=None)\n",
    "plt.fill_between(df_sample_results[\"decision_iteration\"], df_sample_results[\"hdi_max\"], df_sample_results[\"hdi_min\"], color='gray', alpha=0.2, label=\"HDI\")\n",
    "\n",
    "for idx, (iteration, row) in enumerate(df_sample_conclusive.iterrows()):\n",
    "    if idx == 0:\n",
    "        label = \"conclusive\"\n",
    "    else:\n",
    "        label = None\n",
    "    plt.plot([iteration, iteration], [row['hdi_min'], row['hdi_max']], color='red', alpha=0.7, linewidth=1, label=label)\n",
    "\n",
    "#for iteration, row in df_sample_goal.iterrows():\n",
    "#    plt.plot([iteration, iteration], [row['hdi_min'], row['hdi_max']], color='blue', alpha=0.1, linewidth=1)\n",
    "plt.scatter(df_sample_goal[\"decision_iteration\"], df_sample_goal[\"hdi_min\"], color=\"green\", label=f\"{precision_goal:0.3} goal achieved\", marker=\"o\", s=20)\n",
    "plt.scatter(df_sample_goal[\"decision_iteration\"], df_sample_goal[\"hdi_max\"], color=\"green\", label=None, marker=\"o\", s=20)\n",
    "\n",
    "plot_vhlines_lines(vertical=None, label='ROPE', horizontal=rope_min, linestyle=\"--\", color=\"purple\")\n",
    "plot_vhlines_lines(vertical=None, horizontal=rope_max, linestyle=\"--\", color=\"purple\")\n",
    "\n",
    "plt.legend()\n",
    "plt.xlabel(\"iteration\")\n",
    "plt.ylabel(\"sample success rate\")\n",
    "plt.title(f\"true success rate = {success_rate:0.3f}\")"
   ]
  },
  {
   "cell_type": "code",
   "execution_count": null,
   "id": "f09e88ce",
   "metadata": {},
   "outputs": [],
   "source": [
    "\n",
    "sr_experiment_stats_hdirope = df_stats_hdirope.loc[isample]\n",
    "sr_experiment_stats_pitg = df_stats_pitg.loc[isample]\n",
    "sr_experiment_stats_epitg = df_stats_epitg.loc[isample]\n",
    "\n",
    "fig, axs = plt.subplots(3, 1, figsize=(FIG_WIDTH, 1.2* FIG_HEIGHT))\n",
    "xlim = (0.2, 0.6)\n",
    "#xlim = (0.4,0.8)\n",
    "\n",
    "\n",
    "plt.subplot(3, 1, 1)\n",
    "plot_pdf(sr_experiment_stats_hdirope, xlim=xlim)\n",
    "plt.title(\"HDI + ROPE\")\n",
    "\n",
    "plt.subplot(3, 1, 2)\n",
    "plot_pdf(sr_experiment_stats_pitg, xlim=xlim)\n",
    "plt.title(\"Precision is the Goal\")\n",
    "\n",
    "plt.subplot(3, 1, 3)\n",
    "plt.title(\"Enhanced Precision is the Goal\")\n",
    "plot_pdf(sr_experiment_stats_epitg, xlim=xlim)\n",
    "plt.suptitle(f\"Outcomes depending on Stop Criterion\", fontsize=18)\n",
    "plt.tight_layout()"
   ]
  },
  {
   "cell_type": "code",
   "execution_count": null,
   "id": "46b974a8",
   "metadata": {},
   "outputs": [],
   "source": [
    "\"\"\"\n",
    "    iteration_successes = sample.cumsum()\n",
    "    iteration_failures = iteration_number - iteration_successes\n",
    "\n",
    "    for iteration, successes, failures in zip(iteration_number, iteration_successes, iteration_failures):\n",
    "        final_iteration = iteration == iteration_number[-1]\n",
    "        hdi_min, hdi_max = successes_failures_to_hdi_limits(successes, failures)\n",
    "        #hdi_min, hdi_max = successes_failures_caculate_hdi_limits(successes, failures)\n",
    "\n",
    "        # has the precision goal been achieved?\n",
    "        precision_goal_achieved = (hdi_max - hdi_min) < precision_goal\n",
    "\n",
    "        # is the HDI conclusively within or outside the ROPE?\n",
    "        decision_accept = (hdi_min >= rope_min) & (hdi_max <= rope_max)\n",
    "        decision_reject_below = hdi_max < rope_min  \n",
    "        decision_reject_above = rope_max < hdi_min\n",
    "        conclusive = decision_accept | decision_reject_above | decision_reject_below\n",
    "\"\"\""
   ]
  },
  {
   "cell_type": "code",
   "execution_count": null,
   "id": "f7f4633c",
   "metadata": {},
   "outputs": [],
   "source": [
    "(df_stats_hdirope[\"reject_above\"] | df_stats_hdirope[\"reject_below\"]).sum() / len(df_stats_hdirope)"
   ]
  },
  {
   "cell_type": "code",
   "execution_count": null,
   "id": "aa9611c5",
   "metadata": {},
   "outputs": [],
   "source": [
    "(df_stats_pitg[\"reject_above\"] | df_stats_pitg[\"reject_below\"]).sum() / len(df_stats_pitg)"
   ]
  },
  {
   "cell_type": "code",
   "execution_count": null,
   "id": "8defefc8",
   "metadata": {},
   "outputs": [],
   "source": [
    "(df_stats_epitg[\"reject_above\"] | df_stats_epitg[\"reject_below\"]).sum() / len(df_stats_epitg)"
   ]
  },
  {
   "cell_type": "code",
   "execution_count": null,
   "id": "ea04cbd5",
   "metadata": {},
   "outputs": [],
   "source": [
    "df_stats_pitg[\"decision_iteration\"].min(), df_stats_pitg[\"decision_iteration\"].max()"
   ]
  },
  {
   "cell_type": "code",
   "execution_count": null,
   "id": "b3ae7573",
   "metadata": {},
   "outputs": [],
   "source": [
    "df_stats_pitg[\"inconclusive\"].value_counts(normalize=True, dropna=False)  "
   ]
  },
  {
   "cell_type": "code",
   "execution_count": null,
   "id": "1c9518ee",
   "metadata": {},
   "outputs": [],
   "source": [
    "df_stats_epitg[\"inconclusive\"].value_counts(normalize=True, dropna=False)  "
   ]
  },
  {
   "cell_type": "code",
   "execution_count": null,
   "id": "613d4f50",
   "metadata": {},
   "outputs": [],
   "source": [
    "df_stats_pitg[\"success_rate\"].mean(), df_stats_pitg[\"success_rate\"].std()"
   ]
  },
  {
   "cell_type": "code",
   "execution_count": null,
   "id": "7e9b9904",
   "metadata": {},
   "outputs": [],
   "source": [
    "df_stats_epitg[\"success_rate\"].mean(), df_stats_epitg[\"success_rate\"].std()"
   ]
  },
  {
   "cell_type": "code",
   "execution_count": null,
   "id": "26fb0856",
   "metadata": {},
   "outputs": [],
   "source": [
    "variances = []\n",
    "hdi_widths = []\n",
    "ns_ = []\n",
    "\n",
    "for a_, b_ in dict_successes_failures_hdi_limits.keys():\n",
    "    if a_ >= 10 and b_ >= 10:\n",
    "        variances.append(beta.var(a_, b_))\n",
    "        hdi_min, hdi_max = dict_successes_failures_hdi_limits[(a_, b_)]\n",
    "        hdi_widths.append(hdi_max - hdi_min)\n",
    "        ns_.append(a_ + b_)"
   ]
  },
  {
   "cell_type": "code",
   "execution_count": null,
   "id": "d018f1d2",
   "metadata": {},
   "outputs": [],
   "source": [
    "variances = np.array(variances)\n",
    "hdi_widths = np.array(hdi_widths)\n",
    "ns_ = np.array(ns_)"
   ]
  },
  {
   "cell_type": "code",
   "execution_count": null,
   "id": "1f4d0860",
   "metadata": {},
   "outputs": [],
   "source": [
    "plt.plot(variances, hdi_widths, marker=\"o\", linestyle=\"none\")"
   ]
  },
  {
   "cell_type": "code",
   "execution_count": null,
   "id": "79355515",
   "metadata": {},
   "outputs": [],
   "source": [
    "plt.scatter(hdi_widths, hdi_widths/variances)"
   ]
  },
  {
   "cell_type": "code",
   "execution_count": null,
   "id": "b5943585",
   "metadata": {},
   "outputs": [],
   "source": [
    "plt.scatter(ns_, variances)\n",
    "plt.scatter(ns_, hdi_widths)"
   ]
  },
  {
   "cell_type": "code",
   "execution_count": null,
   "id": "83458eca",
   "metadata": {},
   "outputs": [],
   "source": []
  },
  {
   "cell_type": "markdown",
   "id": "49fca916",
   "metadata": {},
   "source": [
    "# Precision and Risk as Goals"
   ]
  },
  {
   "cell_type": "code",
   "execution_count": null,
   "id": "66f6f03b",
   "metadata": {},
   "outputs": [],
   "source": [
    "idx = df_stats_pitg.index[0]\n",
    "\n",
    "# ---\n",
    "sr_experiment_stats_pitg = df_stats_pitg.loc[idx]\n",
    "sr_experiment_stats_epitg = df_stats_epitg.loc[idx]\n",
    "\n",
    "fig, axs = plt.subplots(2, 1, figsize=(FIG_WIDTH, FIG_HEIGHT))\n",
    "\n",
    "plt.subplot(2, 1, 1)\n",
    "plot_pdf(sr_experiment_stats_pitg) #, xlim=(0.4,1))\n",
    "plt.title(\"Precision is the Goal\")\n",
    "\n",
    "plt.subplot(2, 1, 2)\n",
    "plt.title(\"Enhanced Precision is the Goal\")\n",
    "plot_pdf(sr_experiment_stats_epitg) #, xlim=(0.4,1))\n",
    "plt.tight_layout()"
   ]
  },
  {
   "cell_type": "code",
   "execution_count": null,
   "id": "db7f0a70",
   "metadata": {},
   "outputs": [],
   "source": [
    "sr_experiment_stats_pitg"
   ]
  },
  {
   "cell_type": "code",
   "execution_count": null,
   "id": "d7443b89",
   "metadata": {},
   "outputs": [],
   "source": [
    "def pdf_area(pdf, dpp):\n",
    "    return np.sum(pdf) * dpp\n",
    "\n",
    "sr_experiment_stats = sr_experiment_stats_pitg.copy()\n",
    "\n",
    "dpp = 0.0001\n",
    "npp = int(1./dpp)\n",
    "pp = np.linspace(0., 1., npp)\n",
    "\n",
    "successes = sr_experiment_stats[\"successes\"]\n",
    "failures = sr_experiment_stats[\"failures\"]\n",
    "#rate = successes / (successes + failures)\n",
    "#n_ = successes + failures\n",
    "\n",
    "bool_in_rope = (rope_min <= pp) & (pp <= rope_max)\n",
    "p_in_rope = pdf_area(pdf[bool_in_rope], dpp)\n",
    "\n",
    "pdf = beta.pdf(pp, successes, failures)\n",
    "\n",
    "plt.plot(pp,pdf, color=\"purple\")\n",
    "plt.fill_between(pp, pdf, where=bool_in_rope, alpha=0.2, color=\"orange\")\n",
    "plot_vhlines_lines(vertical=rope_min, label='ROPE', horizontal=None)\n",
    "plot_vhlines_lines(vertical=rope_max, horizontal=None)\n",
    "\n",
    "plt.xlim([rope_min - 0.1, rope_max + 0.1])"
   ]
  },
  {
   "cell_type": "code",
   "execution_count": null,
   "id": "10e482b2",
   "metadata": {},
   "outputs": [],
   "source": [
    "pdf_area(pdf, dpp)"
   ]
  },
  {
   "cell_type": "code",
   "execution_count": null,
   "id": "8277dc8f",
   "metadata": {},
   "outputs": [],
   "source": [
    "df_stats_pitg.head(2)"
   ]
  },
  {
   "cell_type": "code",
   "execution_count": null,
   "id": "388653be",
   "metadata": {},
   "outputs": [],
   "source": [
    "df_stats_pitg[\"in_rope\"] = df_stats_pitg.apply(lambda x: pdf_area(beta.pdf(pp, x[\"successes\"], x[\"failures\"])[bool_in_rope], dpp) , axis=1)"
   ]
  },
  {
   "cell_type": "code",
   "execution_count": null,
   "id": "fb6a3f59",
   "metadata": {},
   "outputs": [],
   "source": [
    "df_stats_epitg[\"in_rope\"] = df_stats_epitg.apply(lambda x: pdf_area(beta.pdf(pp, x[\"successes\"], x[\"failures\"])[bool_in_rope], dpp) , axis=1)"
   ]
  },
  {
   "cell_type": "code",
   "execution_count": null,
   "id": "e65cc01a",
   "metadata": {},
   "outputs": [],
   "source": [
    "df_stats_pitg[\"in_rope\"].describe()"
   ]
  },
  {
   "cell_type": "code",
   "execution_count": null,
   "id": "cb3bc6b7",
   "metadata": {},
   "outputs": [],
   "source": [
    "df_stats_pitg.query(\"inconclusive\").shape"
   ]
  },
  {
   "cell_type": "code",
   "execution_count": null,
   "id": "ac401dd0",
   "metadata": {},
   "outputs": [],
   "source": [
    "(df_pitg_plot[\"in_rope\"] > 1- fpr).sum() / len(df_pitg_plot)"
   ]
  },
  {
   "cell_type": "code",
   "execution_count": null,
   "id": "b0754c26",
   "metadata": {},
   "outputs": [],
   "source": []
  },
  {
   "cell_type": "code",
   "execution_count": null,
   "id": "f3735f8d",
   "metadata": {},
   "outputs": [],
   "source": []
  },
  {
   "cell_type": "code",
   "execution_count": null,
   "id": "5e0e8b7c",
   "metadata": {},
   "outputs": [],
   "source": []
  },
  {
   "cell_type": "code",
   "execution_count": null,
   "id": "e72d09e5",
   "metadata": {
    "lines_to_next_cell": 2
   },
   "outputs": [],
   "source": [
    "fpr = 0.05\n",
    "\n",
    "df_pitg_plot = df_stats_pitg.query(\"inconclusive\")\n",
    "\n",
    "df_epitg_plot = df_stats_epitg.loc[df_pitg_plot.index]\n",
    "\n",
    "plt.scatter(df_pitg_plot[\"decision_iteration\"], df_pitg_plot[\"in_rope\"], alpha=0.5, color=\"orange\", label=\"PitG\", marker=\".\")\n",
    "#plt.scatter(df_epitg_plot[\"decision_iteration\"], df_epitg_plot[\"in_rope\"], alpha=0.5, color=\"purple\", label=\"ePitG\", marker=\".\")\n",
    "plt.xlabel(\"stop iteration\")\n",
    "plt.ylabel(\"probability in ROPE\")\n",
    "plot_vhlines_lines(vertical=None, label=None, horizontal=1. - fpr, alpha=0.7, linestyle=\"--\")"
   ]
  },
  {
   "cell_type": "code",
   "execution_count": null,
   "id": "1127314d",
   "metadata": {
    "lines_to_next_cell": 0
   },
   "outputs": [],
   "source": [
    "plt.scatter(df_pitg_plot[\"decision_iteration\"], df_epitg_plot[\"decision_iteration\"], alpha=0.5, color=\"orange\", label=\"PitG\", marker=\".\")\n",
    "\n",
    "frac_ = len(df_pitg_plot) / len(df_stats_pitg)\n",
    "plt.title(f\"{len(df_pitg_plot):,} inconclusive experiments ({frac_:0.1%})\")\n",
    "plot_vhlines_lines(vertical=None, label=None, horizontal=df_pitg_plot[\"decision_iteration\"].min(), alpha=0.7, linestyle=\"--\")\n",
    "plot_vhlines_lines(vertical=None, label=None, horizontal=df_pitg_plot[\"decision_iteration\"].max(), alpha=0.7, linestyle=\"--\")"
   ]
  },
  {
   "cell_type": "code",
   "execution_count": null,
   "id": "36fe8260",
   "metadata": {},
   "outputs": [],
   "source": []
  },
  {
   "cell_type": "code",
   "execution_count": null,
   "id": "b5da3290",
   "metadata": {},
   "outputs": [],
   "source": []
  },
  {
   "cell_type": "code",
   "execution_count": null,
   "id": "17530959",
   "metadata": {},
   "outputs": [],
   "source": []
  },
  {
   "cell_type": "code",
   "execution_count": null,
   "id": "dba680dd",
   "metadata": {},
   "outputs": [],
   "source": []
  },
  {
   "cell_type": "code",
   "execution_count": null,
   "id": "02500db8",
   "metadata": {},
   "outputs": [],
   "source": []
  },
  {
   "cell_type": "code",
   "execution_count": null,
   "id": "d9f57dea",
   "metadata": {
    "lines_to_next_cell": 2
   },
   "outputs": [],
   "source": []
  },
  {
   "cell_type": "code",
   "execution_count": null,
   "id": "5f26f75d",
   "metadata": {},
   "outputs": [],
   "source": [
    "def plot_parity_line(ax=None):\n",
    "    if ax is None:\n",
    "        ax = plt.gca()\n",
    "\n",
    "    xlims = ax.get_xlim()\n",
    "    ylims = ax.get_ylim()\n",
    "    lims = [np.min([xlims[0], ylims[0]]), np.max([xlims[1], ylims[1]])]\n",
    "\n",
    "    ax.plot(lims, lims, \"k--\", linewidth=1)"
   ]
  },
  {
   "cell_type": "code",
   "execution_count": null,
   "id": "bdd31969",
   "metadata": {},
   "outputs": [],
   "source": [
    "plt.scatter(df_stats_pitg[\"decision_iteration\"], df_stats_pitg[\"in_rope\"], alpha=0.05, color=\"orange\", label=\"PitG\", marker=\".\")\n",
    "plt.scatter(df_stats_epitg[\"decision_iteration\"], df_stats_epitg[\"in_rope\"], alpha=0.05, color=\"purple\", label=\"ePitG\", marker=\".\")\n",
    "plt.xlabel(\"stop iteration\")\n",
    "plt.ylabel(\"probability in ROPE\")"
   ]
  },
  {
   "cell_type": "code",
   "execution_count": null,
   "id": "91f4895e",
   "metadata": {},
   "outputs": [],
   "source": []
  },
  {
   "cell_type": "code",
   "execution_count": null,
   "id": "ace99bb4",
   "metadata": {},
   "outputs": [],
   "source": [
    "plt.hist(df_stats_pitg[\"in_rope\"])\n",
    "plt.hist(df_stats_epitg[\"in_rope\"])"
   ]
  },
  {
   "cell_type": "code",
   "execution_count": null,
   "id": "7005d068",
   "metadata": {},
   "outputs": [],
   "source": []
  },
  {
   "cell_type": "code",
   "execution_count": null,
   "id": "8b0f8335",
   "metadata": {},
   "outputs": [],
   "source": []
  },
  {
   "cell_type": "code",
   "execution_count": null,
   "id": "4b7728b0",
   "metadata": {},
   "outputs": [],
   "source": []
  },
  {
   "cell_type": "code",
   "execution_count": null,
   "id": "9016eee8",
   "metadata": {},
   "outputs": [],
   "source": []
  },
  {
   "cell_type": "code",
   "execution_count": null,
   "id": "ed1818bc",
   "metadata": {},
   "outputs": [],
   "source": [
    "df_stats_pitg.head(4).apply(lambda x: pdf_area(beta.pdf(pp, x[\"successes\"], x[\"failures\"]), dpp))"
   ]
  },
  {
   "cell_type": "code",
   "execution_count": null,
   "id": "b37235cb",
   "metadata": {},
   "outputs": [],
   "source": []
  },
  {
   "cell_type": "code",
   "execution_count": null,
   "id": "537a72b4",
   "metadata": {},
   "outputs": [],
   "source": []
  },
  {
   "cell_type": "code",
   "execution_count": null,
   "id": "886dd0f1",
   "metadata": {},
   "outputs": [],
   "source": []
  },
  {
   "cell_type": "code",
   "execution_count": null,
   "id": "7ea3ccfe",
   "metadata": {
    "lines_to_next_cell": 2
   },
   "outputs": [],
   "source": []
  },
  {
   "cell_type": "code",
   "execution_count": null,
   "id": "5b9b962c",
   "metadata": {},
   "outputs": [],
   "source": [
    "pdf.sum() *dpp"
   ]
  },
  {
   "cell_type": "code",
   "execution_count": null,
   "id": "8465fc04",
   "metadata": {},
   "outputs": [],
   "source": []
  },
  {
   "cell_type": "code",
   "execution_count": null,
   "id": "c4619687",
   "metadata": {},
   "outputs": [],
   "source": []
  },
  {
   "cell_type": "code",
   "execution_count": null,
   "id": "c337d72e",
   "metadata": {},
   "outputs": [],
   "source": []
  },
  {
   "cell_type": "code",
   "execution_count": null,
   "id": "8d9a2c9f",
   "metadata": {},
   "outputs": [],
   "source": [
    "pdf"
   ]
  },
  {
   "cell_type": "code",
   "execution_count": null,
   "id": "a68c0fd0",
   "metadata": {},
   "outputs": [],
   "source": []
  }
 ],
 "metadata": {
  "jupytext": {
   "cell_metadata_filter": "-all",
   "custom_cell_magics": "kql",
   "encoding": "# -*- coding: utf-8 -*-"
  },
  "kernelspec": {
   "display_name": "scrappy-3.8.11",
   "language": "python",
   "name": "python3"
  },
  "language_info": {
   "codemirror_mode": {
    "name": "ipython",
    "version": 3
   },
   "file_extension": ".py",
   "mimetype": "text/x-python",
   "name": "python",
   "nbconvert_exporter": "python",
   "pygments_lexer": "ipython3",
   "version": "3.8.11"
  }
 },
 "nbformat": 4,
 "nbformat_minor": 5
}
